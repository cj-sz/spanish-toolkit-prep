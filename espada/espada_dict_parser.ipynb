{
 "cells": [
  {
   "cell_type": "markdown",
   "metadata": {},
   "source": [
    "# ESPADA Spanish Annotated Dictionary Parser"
   ]
  },
  {
   "cell_type": "code",
   "execution_count": 1,
   "metadata": {},
   "outputs": [],
   "source": [
    "import pandas as pd\n",
    "import os\n",
    "import re\n",
    "import json"
   ]
  },
  {
   "cell_type": "code",
   "execution_count": 2,
   "metadata": {},
   "outputs": [
    {
     "name": "stdout",
     "output_type": "stream",
     "text": [
      "(628298, 35)\n"
     ]
    }
   ],
   "source": [
    "# Combine the three dataframes back into a single dataframe\n",
    "# NOTE: Two entries from original dictionary manually removed containing unicode characters '\\u200e', '\\xad'\n",
    "# These appeared to be repeats of entries already present.\n",
    "df1_loaded = pd.read_csv('SpanishAnnotatedDictionary_part1.csv')\n",
    "df2_loaded = pd.read_csv('SpanishAnnotatedDictionary_part2.csv')\n",
    "df3_loaded = pd.read_csv('SpanishAnnotatedDictionary_part3.csv')\n",
    "\n",
    "espada_df = pd.concat([df1_loaded, df2_loaded, df3_loaded], ignore_index=True)\n",
    "\n",
    "print(espada_df.shape)"
   ]
  },
  {
   "cell_type": "markdown",
   "metadata": {},
   "source": [
    "Obtain the set of all unique phonemes present in the dictionary. Note that all phonemes are single-lettered for simplicity, and in this dictionary there is a 1-1 correspondence between letters and their phonological counterparts."
   ]
  },
  {
   "cell_type": "code",
   "execution_count": 3,
   "metadata": {},
   "outputs": [
    {
     "name": "stdout",
     "output_type": "stream",
     "text": [
      "Total unique phonemes: 36\n",
      "Unique phonemes: {'E', 'N', 'w', 'i', 'p', 'o', 'G', 't', 'O', 'J', 'Y', 'D', 'l', 'e', 'm', 'd', 'u', 'A', 'f', 'I', 'g', 'r', 'S', 'R', 'b', 'a', 'B', 'W', 'C', 'j', 'U', 'k', 's', 'n', 'T', 'x'}\n"
     ]
    }
   ],
   "source": [
    "unique_phonemes = set()\n",
    "\n",
    "for phoneme_sequence in espada_df['MainBase']:\n",
    "    phonemes = phoneme_sequence.split()\n",
    "    unique_phonemes.update(phonemes)\n",
    "\n",
    "print(f\"Total unique phonemes: {len(unique_phonemes)}\")\n",
    "print(f\"Unique phonemes: {unique_phonemes}\")"
   ]
  },
  {
   "cell_type": "markdown",
   "metadata": {},
   "source": [
    "Obtain a list of words spanning all phonemes."
   ]
  },
  {
   "cell_type": "code",
   "execution_count": 4,
   "metadata": {},
   "outputs": [
    {
     "name": "stdout",
     "output_type": "stream",
     "text": [
      "Number of selected words: 29\n",
      "Selected words: ['a', 'aaron', 'aarón', 'aarónico', 'aaronita', 'ab', 'aba', 'ababilla', 'ababillabais', 'ababillábamos', 'ababillado', 'ababilláis', 'ababillándome', 'ababillaré', 'ababol', 'abacería', 'abacha', 'abadejo', 'abadengo', 'abajeño', 'abakuá', 'abalaustrado', 'abaleadura', 'abapó', 'abarcucé', 'abarraca', 'abarragamiento', 'abifetear', 'accha']\n"
     ]
    }
   ],
   "source": [
    "seen_phonemes = set()\n",
    "selected_words = []\n",
    "\n",
    "for index, row in espada_df.iterrows():\n",
    "    entry = row['Entry']\n",
    "    phoneme_sequence = row['MainBase']\n",
    "    \n",
    "    phonemes = set(phoneme_sequence.split())\n",
    "    \n",
    "    if not phonemes.issubset(seen_phonemes):\n",
    "        selected_words.append(entry)\n",
    "        seen_phonemes.update(phonemes)\n",
    "        \n",
    "        if seen_phonemes == unique_phonemes:\n",
    "            break\n",
    "\n",
    "print(f\"Number of selected words: {len(selected_words)}\")\n",
    "print(f\"Selected words: {selected_words}\")"
   ]
  },
  {
   "cell_type": "markdown",
   "metadata": {},
   "source": [
    "Obtain a set of all 1-1 grapheme-phoneme mappings."
   ]
  },
  {
   "cell_type": "code",
   "execution_count": 5,
   "metadata": {},
   "outputs": [
    {
     "name": "stdout",
     "output_type": "stream",
     "text": [
      "Total unique phoneme-grapheme mappings: 229\n",
      "Phoneme-grapheme mappings: {('e', 'w'), ('u', 'g'), ('c', 'k'), ('a', 'k'), ('g', 'x'), ('o', 'm'), ('a', 't'), ('c', 'I'), ('à', 'a'), ('i', 'w'), ('x', 'k'), ('m', 'a'), ('e', 'E'), ('p', 'p'), ('d', 'n'), ('ü', 'U'), ('î', 'J'), ('g', 'n'), ('u', 'w'), ('i', 'O'), ('e', 's'), ('i', 'x'), ('a', 'l'), ('c', 'l'), ('r', 'U'), ('q', 'a'), ('e', 'n'), ('r', 'a'), ('l', 'U'), ('ç', 's'), ('s', 'J'), ('ü', 'w'), ('o', 'w'), ('ó', 'k'), ('g', 'l'), ('i', 't'), ('d', 'r'), ('i', 'I'), ('l', 'p'), ('p', 'e'), ('e', 'j'), ('i', 'i'), ('o', 'O'), ('b', 'B'), ('m', 's'), ('u', 't'), ('d', 'D'), ('u', 'I'), ('n', 'a'), ('w', 'r'), ('e', 'r'), ('i', 'l'), ('q', 'E'), ('ã', 'a'), ('è', 'E'), ('y', 'j'), ('q', 'e'), ('o', 'n'), ('h', 'a'), ('q', 's'), ('r', 'e'), ('l', 'E'), ('z', 'T'), ('o', 't'), ('n', 'w'), ('l', 'e'), ('c', 'T'), ('p', 'a'), ('a', 'a'), ('j', 'x'), ('i', 'd'), ('w', 'u'), ('a', 'W'), ('í', 'I'), ('t', 'a'), ('h', 'C'), ('i', 'J'), ('g', 'G'), ('w', 'b'), ('v', 'b'), ('h', 'E'), ('ö', 'O'), ('n', 'n'), ('u', 'u'), ('e', 'k'), ('h', 'S'), ('u', 'J'), ('e', 't'), ('h', 'e'), ('e', 'I'), ('o', 'D'), ('i', 'k'), ('e', 'f'), ('r', 'r'), ('p', 'O'), ('z', 's'), ('t', 'E'), ('i', 'f'), ('p', 's'), ('o', 'o'), ('ú', 'u'), ('t', 'e'), ('u', 'k'), ('y', 'I'), ('o', 'J'), ('r', 'R'), ('x', 's'), ('t', 's'), ('d', 'd'), ('y', 'i'), ('n', 'A'), ('u', 'i'), ('s', 'a'), ('r', 'O'), ('a', 'm'), ('o', 'k'), ('l', 'O'), ('j', 'o'), ('m', 'i'), ('ú', 'W'), ('c', 'a'), ('e', 'o'), ('à', 'A'), ('q', 'I'), ('r', 'k'), ('p', 'r'), ('r', 't'), ('h', 'w'), ('l', 't'), ('b', 'b'), ('l', 'I'), ('c', 'C'), ('r', 'i'), ('s', 'e'), ('ö', 'o'), ('y', 'J'), ('i', 'm'), ('h', 'O'), ('a', 'w'), ('s', 's'), ('l', 'i'), ('ú', 'Y'), ('w', 'W'), ('ń', 'O'), ('e', 'W'), ('p', 'o'), ('r', 'A'), ('n', 'I'), ('l', 'l'), ('m', 'o'), ('m', 'u'), ('l', 'A'), ('i', 'p'), ('n', 'i'), ('t', 'O'), ('f', 'f'), ('i', 'W'), ('u', 'U'), ('c', 's'), ('a', 's'), ('f', 'i'), ('h', 'k'), ('x', 'x'), ('h', 't'), ('u', 'a'), ('é', 'p'), ('c', 'n'), ('a', 'n'), ('u', 'W'), ('u', 'p'), ('q', 'o'), ('f', 'l'), ('h', 'i'), ('r', 'o'), ('r', 'u'), ('á', 'A'), ('ú', 'U'), ('g', 'N'), ('t', 't'), ('t', 'I'), ('e', 'e'), ('l', 'u'), ('w', 's'), ('h', 'A'), ('i', 'E'), ('ó', 'O'), ('ü', 'W'), ('o', 'p'), ('o', 'W'), ('q', 'k'), ('y', 'Y'), ('é', 'E'), ('i', 's'), ('a', 'A'), ('c', 'A'), ('u', 'E'), ('a', 'r'), ('k', 'k'), ('t', 'A'), ('q', 'i'), ('u', 'e'), ('r', 'p'), ('e', 'm'), ('ú', 'w'), ('h', 'o'), ('g', 'g'), ('s', 'i'), ('g', 'r'), ('o', 'E'), ('v', 'B'), ('w', 'g'), ('ñ', 'N'), ('c', 'o'), ('i', 'j'), ('p', 'u'), ('u', 'm'), ('t', 'o'), ('o', 's'), ('ò', 'o'), ('á', 'p'), ('i', 'r'), ('ó', 'r'), ('y', 'a'), ('d', 'O'), ('w', 'w'), ('m', 'm'), ('y', 'p'), ('l', 'Y'), ('h', 'W')}\n"
     ]
    }
   ],
   "source": [
    "phoneme_grapheme_mappings = set()\n",
    "\n",
    "# Iterate through the rows\n",
    "for index, row in espada_df.iterrows():\n",
    "    entry = row['Entry']\n",
    "    phoneme_sequence = row['MainBase']\n",
    "    \n",
    "    # Split the phoneme sequence by spaces to get individual phonemes\n",
    "    phonemes = phoneme_sequence.split()\n",
    "    \n",
    "    # Ensure the lengths of the entry and phoneme sequence match for 1-to-1 mapping\n",
    "    if len(entry) == len(phonemes):\n",
    "        for letter, phoneme in zip(entry, phonemes):\n",
    "            # Add the (letter, phoneme) tuple to the set\n",
    "            phoneme_grapheme_mappings.add((letter, phoneme))\n",
    "\n",
    "print(f\"Total unique phoneme-grapheme mappings: {len(phoneme_grapheme_mappings)}\")\n",
    "print(f\"Phoneme-grapheme mappings: {phoneme_grapheme_mappings}\")"
   ]
  },
  {
   "cell_type": "markdown",
   "metadata": {},
   "source": [
    "Output a dataframe of words, their phonemes, and the contained mappings spanning all of the mappings found in the previous step."
   ]
  },
  {
   "cell_type": "code",
   "execution_count": 6,
   "metadata": {},
   "outputs": [
    {
     "name": "stdout",
     "output_type": "stream",
     "text": [
      "Total spanning words: 144\n",
      "Spanning words saved to 'spanning_words.csv'\n"
     ]
    }
   ],
   "source": [
    "seen_mappings = set()\n",
    "spanning_words = []\n",
    "\n",
    "for index, row in espada_df.iterrows():\n",
    "    entry = row['Entry']\n",
    "    phoneme_sequence = row['MainBase']\n",
    "    phonemes = phoneme_sequence.split()\n",
    "    \n",
    "    # Ensure the lengths of the entry and phoneme sequence match for 1-to-1 mapping \n",
    "    if len(entry) == len(phonemes):\n",
    "        word_mappings = [(letter, phoneme) for letter, phoneme in zip(entry, phonemes)]\n",
    "        new_mappings = [(letter, phoneme) for letter, phoneme in word_mappings if (letter, phoneme) not in seen_mappings]\n",
    "        \n",
    "        if new_mappings:\n",
    "            spanning_words.append({\n",
    "                'entry': entry,\n",
    "                'phonemes': phonemes,\n",
    "                'mappings': word_mappings\n",
    "            })\n",
    "            \n",
    "            # Update the set of seen mappings\n",
    "            seen_mappings.update(new_mappings)\n",
    "            \n",
    "            # If all phoneme-grapheme mappings are found, we can exit early\n",
    "            if len(seen_mappings) == len(phoneme_grapheme_mappings):\n",
    "                break\n",
    "\n",
    "df_spanning = pd.DataFrame(spanning_words)\n",
    "df_spanning.to_csv('spanning_words.csv', index=False)\n",
    "\n",
    "print(f\"Total spanning words: {len(spanning_words)}\")\n",
    "print(f\"Spanning words saved to 'spanning_words.csv'\")"
   ]
  },
  {
   "cell_type": "markdown",
   "metadata": {},
   "source": [
    "Output a dataframe of words, their corresponding pronunciations, and their IPA transcriptions as provided by the Spanish-IPA translator. These words also span all present phonemes and are guaranteed to have a corresponding IPA transcription as provided by the Spanish-IPA translator. (From the Spanish/Spain dictionary).\n",
    "\n",
    "Essentially once this is verified we will check the correspondence between phonemes as provided in the Spanish Annotated Dictionary and the IPA transcriptions from the translator, then map this across the entire annotated dictionary and use those IPA transcriptions as the ones in the original Annotated Dictionary do not match the IPA conventions 1-1 even in the indicated columns."
   ]
  },
  {
   "cell_type": "code",
   "execution_count": 14,
   "metadata": {},
   "outputs": [
    {
     "name": "stdout",
     "output_type": "stream",
     "text": [
      "[('a', 'A')]\n",
      "[('b', 'B'), ('a', 'a')]\n",
      "[('c', 'T'), ('e', 'e'), ('r', 'r'), ('í', 'I')]\n",
      "[('e', 'E'), ('o', 'o')]\n",
      "[('á', 'A'), ('c', 'k')]\n",
      "[('d', 'd')]\n",
      "[('d', 'D')]\n",
      "[('j', 'x')]\n",
      "[('n', 'n'), ('g', 'g')]\n",
      "[('i', 'j'), ('s', 's')]\n",
      "[('m', 'm')]\n",
      "[('i', 'J')]\n",
      "[('é', 'E')]\n",
      "[('t', 't')]\n",
      "[('ó', 'O')]\n",
      "[('ñ', 'N')]\n",
      "[('l', 'l')]\n",
      "[('z', 'T')]\n",
      "[('o', 'O')]\n",
      "[('u', 'W')]\n",
      "[('u', 'w')]\n",
      "[('i', 'I')]\n",
      "[('i', 'i')]\n",
      "[('b', 'b')]\n",
      "[('u', 'U')]\n",
      "[('v', 'B')]\n",
      "[('u', 'u')]\n",
      "[('g', 'x')]\n",
      "[('g', 'G')]\n",
      "[('f', 'f')]\n",
      "[('y', 'Y')]\n",
      "[('p', 'p')]\n",
      "[('v', 'b')]\n",
      "[('ú', 'u')]\n",
      "[('c', 's')]\n",
      "[('ú', 'w')]\n",
      "[('ü', 'W')]\n",
      "[('ü', 'w')]\n",
      "[('ú', 'W')]\n",
      "[('x', 'k'), ('i', 's'), ('q', 'I'), ('u', 'k')]\n",
      "[('q', 'i')]\n",
      "[('y', 'J')]\n",
      "[('y', 'I')]\n",
      "[('y', 'j')]\n",
      "[('q', 'k'), ('u', 'E'), ('e', 'k'), ('x', 's')]\n",
      "[('k', 'k')]\n",
      "[('o', 'k'), ('m', 'o'), ('u', 'm'), ('l', 'U'), ('g', 'l'), ('u', 'g')]\n",
      "[('l', 'u')]\n",
      "[('r', 'k'), ('e', 'r'), ('s', 'e')]\n",
      "[('l', 'Y')]\n",
      "[('e', 's'), ('q', 'e')]\n",
      "[('q', 'E')]\n",
      "[('h', 'S')]\n",
      "[('o', 's'), ('e', 'o'), ('q', 's')]\n",
      "[('t', 'o'), ('i', 't')]\n",
      "[('p', 's'), ('i', 'p'), ('l', 'I')]\n",
      "[('l', 'p'), ('i', 'l')]\n",
      "[('u', 'p'), ('r', 'U'), ('g', 'r')]\n",
      "[('r', 'u')]\n",
      "[('t', 's'), ('n', 'I'), ('g', 'n')]\n",
      "[('n', 'i')]\n",
      "[('r', 't'), ('a', 'r'), ('r', 'a'), ('r', 'R')]\n",
      "[('t', 'a'), ('e', 't'), ('r', 'e')]\n",
      "[('h', 'e'), ('e', 'm'), ('m', 'a'), ('a', 't')]\n",
      "[('t', 'e'), ('r', 'o'), ('o', 'D'), ('d', 'O')]\n",
      "[('h', 'i'), ('i', 'd'), ('d', 'r'), ('o', 't'), ('t', 'O'), ('ó', 'r'), ('a', 'k')]\n",
      "[('p', 'e'), ('t', 'E')]\n",
      "[('h', 'o'), ('o', 'm')]\n",
      "[('e', 'f'), ('f', 'l'), ('l', 'e')]\n",
      "[('u', 'J'), ('i', 'O'), ('ó', 'k')]\n",
      "[('u', 't'), ('p', 'u')]\n",
      "[('w', 'W')]\n",
      "[('ú', 'U')]\n",
      "[('x', 'x')]\n",
      "[('y', 'i')]\n",
      "Total spanning words: 75\n",
      "Spanning words saved to 'spanning_words_ipa_translations.csv'\n"
     ]
    }
   ],
   "source": [
    "import json\n",
    "import pandas as pd\n",
    "\n",
    "# Load the IPA translations from the JSON file with UTF-8 encoding\n",
    "with open('es_ES.json', 'r', encoding='utf-8') as file:\n",
    "    ipa_translations = json.load(file)\n",
    "\n",
    "seen_mappings = set()\n",
    "spanning_words = []\n",
    "\n",
    "for index, row in espada_df.iterrows():\n",
    "    entry = row['Entry']\n",
    "    phoneme_sequence = row['MainBase']\n",
    "    phonemes = phoneme_sequence.split()\n",
    "    \n",
    "    # Ensure the lengths of the entry and phoneme sequence match for 1-to-1 mapping \n",
    "    if len(entry) == len(phonemes):\n",
    "        word_mappings = [(letter, phoneme) for letter, phoneme in zip(entry, phonemes)]\n",
    "        new_mappings = [(letter, phoneme) for letter, phoneme in word_mappings if (letter, phoneme) not in seen_mappings]\n",
    "        \n",
    "        # Ensure the entry is in ipa_translations and only add if there are new mappings\n",
    "        if entry in ipa_translations and new_mappings:\n",
    "            # Append only if there are new mappings not seen yet\n",
    "            spanning_words.append({\n",
    "                'entry': entry,\n",
    "                'phonemes': phonemes,\n",
    "                'ipa': ipa_translations[entry]  # Add the corresponding IPA pronunciation\n",
    "            })\n",
    "            \n",
    "            # Update the set of seen mappings\n",
    "            seen_mappings.update(new_mappings)\n",
    "            \n",
    "            # If all phoneme-grapheme mappings are found, we can exit early\n",
    "            if len(seen_mappings) == len(phoneme_grapheme_mappings):\n",
    "                break\n",
    "\n",
    "# Create DataFrame without the 'mappings' column\n",
    "df_spanning = pd.DataFrame(spanning_words)\n",
    "\n",
    "# Save to CSV\n",
    "df_spanning.to_csv('spanning_words_ipa_translations.csv', index=False)\n",
    "\n",
    "print(f\"Total spanning words: {len(spanning_words)}\")\n",
    "print(f\"Spanning words saved to 'spanning_words_ipa_translations.csv'\")\n"
   ]
  },
  {
   "cell_type": "code",
   "execution_count": 10,
   "metadata": {},
   "outputs": [
    {
     "data": {
      "text/plain": [
       "229"
      ]
     },
     "execution_count": 10,
     "metadata": {},
     "output_type": "execute_result"
    }
   ],
   "source": [
    "len(ipa_translations)\n",
    "len(phoneme_grapheme_mappings)"
   ]
  },
  {
   "cell_type": "code",
   "execution_count": 15,
   "metadata": {},
   "outputs": [
    {
     "data": {
      "text/plain": [
       "628298"
      ]
     },
     "execution_count": 15,
     "metadata": {},
     "output_type": "execute_result"
    }
   ],
   "source": [
    "len(espada_df)"
   ]
  },
  {
   "cell_type": "code",
   "execution_count": 16,
   "metadata": {},
   "outputs": [
    {
     "data": {
      "text/plain": [
       "595896"
      ]
     },
     "execution_count": 16,
     "metadata": {},
     "output_type": "execute_result"
    }
   ],
   "source": [
    "len(ipa_translations)"
   ]
  },
  {
   "cell_type": "code",
   "execution_count": null,
   "metadata": {},
   "outputs": [],
   "source": []
  }
 ],
 "metadata": {
  "kernelspec": {
   "display_name": "Python 3",
   "language": "python",
   "name": "python3"
  },
  "language_info": {
   "codemirror_mode": {
    "name": "ipython",
    "version": 3
   },
   "file_extension": ".py",
   "mimetype": "text/x-python",
   "name": "python",
   "nbconvert_exporter": "python",
   "pygments_lexer": "ipython3",
   "version": "3.12.7"
  }
 },
 "nbformat": 4,
 "nbformat_minor": 2
}
