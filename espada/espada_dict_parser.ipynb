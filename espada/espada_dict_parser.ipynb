{
 "cells": [
  {
   "cell_type": "markdown",
   "metadata": {},
   "source": [
    "# ESPADA Spanish Annotated Dictionary Parser"
   ]
  },
  {
   "cell_type": "code",
   "execution_count": 1,
   "metadata": {},
   "outputs": [],
   "source": [
    "import pandas as pd\n",
    "import os\n",
    "import re"
   ]
  },
  {
   "cell_type": "code",
   "execution_count": 2,
   "metadata": {},
   "outputs": [
    {
     "name": "stdout",
     "output_type": "stream",
     "text": [
      "(628298, 35)\n"
     ]
    }
   ],
   "source": [
    "# Combine the three dataframes back into a single dataframe\n",
    "# NOTE: Two entries from original dictionary manually removed containing unicode characters '\\u200e', '\\xad'\n",
    "# These appeared to be repeats of entries already present.\n",
    "df1_loaded = pd.read_csv('SpanishAnnotatedDictionary_part1.csv')\n",
    "df2_loaded = pd.read_csv('SpanishAnnotatedDictionary_part2.csv')\n",
    "df3_loaded = pd.read_csv('SpanishAnnotatedDictionary_part3.csv')\n",
    "\n",
    "espada_df = pd.concat([df1_loaded, df2_loaded, df3_loaded], ignore_index=True)\n",
    "\n",
    "print(espada_df.shape)"
   ]
  },
  {
   "cell_type": "markdown",
   "metadata": {},
   "source": [
    "Obtain the set of all unique phonemes present in the dictionary. Note that all phonemes are single-lettered for simplicity, and in this dictionary there is a 1-1 correspondence between letters and their phonological counterparts."
   ]
  },
  {
   "cell_type": "code",
   "execution_count": 3,
   "metadata": {},
   "outputs": [
    {
     "name": "stdout",
     "output_type": "stream",
     "text": [
      "Total unique phonemes: 36\n",
      "Unique phonemes: {'r', 'p', 'o', 'n', 'w', 'j', 'J', 'O', 'd', 'G', 'C', 'x', 'N', 'k', 'g', 'a', 'E', 'f', 'A', 's', 'U', 'D', 'l', 'u', 'm', 'R', 'I', 'b', 'i', 't', 'S', 'Y', 'W', 'e', 'B', 'T'}\n"
     ]
    }
   ],
   "source": [
    "unique_phonemes = set()\n",
    "\n",
    "for phoneme_sequence in espada_df['MainBase']:\n",
    "    phonemes = phoneme_sequence.split()\n",
    "    unique_phonemes.update(phonemes)\n",
    "\n",
    "print(f\"Total unique phonemes: {len(unique_phonemes)}\")\n",
    "print(f\"Unique phonemes: {unique_phonemes}\")"
   ]
  },
  {
   "cell_type": "markdown",
   "metadata": {},
   "source": [
    "Obtain a list of words spanning all phonemes."
   ]
  },
  {
   "cell_type": "code",
   "execution_count": 4,
   "metadata": {},
   "outputs": [
    {
     "name": "stdout",
     "output_type": "stream",
     "text": [
      "Number of selected words: 29\n",
      "Selected words: ['a', 'aaron', 'aarón', 'aarónico', 'aaronita', 'ab', 'aba', 'ababilla', 'ababillabais', 'ababillábamos', 'ababillado', 'ababilláis', 'ababillándome', 'ababillaré', 'ababol', 'abacería', 'abacha', 'abadejo', 'abadengo', 'abajeño', 'abakuá', 'abalaustrado', 'abaleadura', 'abapó', 'abarcucé', 'abarraca', 'abarragamiento', 'abifetear', 'accha']\n"
     ]
    }
   ],
   "source": [
    "seen_phonemes = set()\n",
    "selected_words = []\n",
    "\n",
    "for index, row in espada_df.iterrows():\n",
    "    entry = row['Entry']\n",
    "    phoneme_sequence = row['MainBase']\n",
    "    \n",
    "    phonemes = set(phoneme_sequence.split())\n",
    "    \n",
    "    if not phonemes.issubset(seen_phonemes):\n",
    "        selected_words.append(entry)\n",
    "        seen_phonemes.update(phonemes)\n",
    "        \n",
    "        if seen_phonemes == unique_phonemes:\n",
    "            break\n",
    "\n",
    "print(f\"Number of selected words: {len(selected_words)}\")\n",
    "print(f\"Selected words: {selected_words}\")"
   ]
  },
  {
   "cell_type": "markdown",
   "metadata": {},
   "source": [
    "Obtain a set of all 1-1 grapheme-phoneme mappings."
   ]
  },
  {
   "cell_type": "code",
   "execution_count": 6,
   "metadata": {},
   "outputs": [
    {
     "name": "stdout",
     "output_type": "stream",
     "text": [
      "Total unique phoneme-grapheme mappings: 229\n",
      "Phoneme-grapheme mappings: {('h', 'k'), ('y', 'J'), ('g', 'r'), ('r', 'p'), ('r', 'o'), ('c', 'n'), ('e', 'm'), ('l', 'E'), ('h', 'o'), ('n', 'a'), ('o', 'E'), ('a', 'w'), ('u', 'a'), ('e', 'I'), ('ö', 'o'), ('l', 'p'), ('s', 'a'), ('u', 'U'), ('o', 'o'), ('è', 'E'), ('p', 'p'), ('p', 'o'), ('r', 'k'), ('o', 'D'), ('x', 'k'), ('ã', 'a'), ('i', 't'), ('u', 'W'), ('f', 'f'), ('m', 'u'), ('i', 'j'), ('c', 'I'), ('ú', 'Y'), ('h', 'C'), ('t', 't'), ('i', 'J'), ('y', 'p'), ('î', 'J'), ('á', 'A'), ('r', 'r'), ('e', 't'), ('t', 'A'), ('i', 'd'), ('m', 'i'), ('e', 'W'), ('f', 'l'), ('i', 'O'), ('r', 'e'), ('o', 'J'), ('p', 's'), ('h', 'e'), ('h', 'O'), ('t', 'O'), ('e', 'n'), ('u', 'm'), ('x', 'x'), ('v', 'b'), ('l', 'e'), ('g', 'x'), ('x', 's'), ('n', 'I'), ('i', 'f'), ('p', 'r'), ('u', 'I'), ('ö', 'O'), ('a', 'A'), ('o', 'O'), ('q', 'E'), ('ñ', 'N'), ('a', 'r'), ('i', 'k'), ('w', 'W'), ('q', 'k'), ('i', 'E'), ('í', 'I'), ('p', 'e'), ('b', 'B'), ('t', 'E'), ('r', 'a'), ('p', 'O'), ('i', 'p'), ('á', 'p'), ('e', 'w'), ('q', 'o'), ('w', 'u'), ('u', 'g'), ('c', 'A'), ('j', 'o'), ('d', 'n'), ('r', 'U'), ('t', 'o'), ('e', 'E'), ('b', 'b'), ('o', 'k'), ('o', 'p'), ('l', 'U'), ('h', 'S'), ('w', 'w'), ('a', 'k'), ('l', 'l'), ('u', 't'), ('i', 'x'), ('i', 's'), ('c', 'k'), ('j', 'x'), ('u', 'u'), ('n', 'n'), ('q', 's'), ('y', 'a'), ('é', 'E'), ('t', 's'), ('c', 'o'), ('i', 'r'), ('w', 'g'), ('g', 'l'), ('o', 's'), ('e', 'j'), ('n', 'i'), ('q', 'e'), ('n', 'w'), ('ú', 'U'), ('u', 'i'), ('u', 'w'), ('t', 'e'), ('a', 's'), ('s', 'i'), ('ó', 'k'), ('u', 'E'), ('ü', 'U'), ('l', 'I'), ('c', 'C'), ('m', 'o'), ('w', 'b'), ('c', 's'), ('h', 'a'), ('ü', 'W'), ('e', 'f'), ('f', 'i'), ('d', 'd'), ('i', 'l'), ('e', 'k'), ('à', 'A'), ('y', 'I'), ('ò', 'o'), ('e', 'o'), ('p', 'a'), ('ń', 'O'), ('h', 'W'), ('a', 'a'), ('r', 'u'), ('m', 's'), ('g', 'g'), ('ü', 'w'), ('ó', 'r'), ('o', 'W'), ('s', 's'), ('l', 'u'), ('u', 'J'), ('n', 'A'), ('a', 'l'), ('s', 'J'), ('ó', 'O'), ('r', 'i'), ('d', 'D'), ('a', 'W'), ('p', 'u'), ('é', 'p'), ('h', 'w'), ('i', 'm'), ('e', 's'), ('s', 'e'), ('i', 'I'), ('l', 'i'), ('q', 'I'), ('e', 'r'), ('g', 'n'), ('t', 'I'), ('o', 'm'), ('m', 'a'), ('c', 'T'), ('ú', 'W'), ('e', 'e'), ('g', 'G'), ('u', 'k'), ('w', 's'), ('ú', 'u'), ('u', 'p'), ('ç', 's'), ('q', 'a'), ('a', 'm'), ('d', 'r'), ('t', 'a'), ('y', 'i'), ('w', 'r'), ('d', 'O'), ('ú', 'w'), ('r', 't'), ('i', 'W'), ('h', 't'), ('l', 'Y'), ('z', 'T'), ('l', 't'), ('r', 'A'), ('o', 't'), ('z', 's'), ('h', 'A'), ('v', 'B'), ('c', 'a'), ('r', 'O'), ('l', 'A'), ('m', 'm'), ('a', 't'), ('i', 'i'), ('o', 'n'), ('q', 'i'), ('r', 'R'), ('à', 'a'), ('i', 'w'), ('h', 'i'), ('u', 'e'), ('y', 'Y'), ('c', 'l'), ('l', 'O'), ('a', 'n'), ('g', 'N'), ('y', 'j'), ('h', 'E'), ('o', 'w'), ('k', 'k')}\n"
     ]
    }
   ],
   "source": [
    "phoneme_grapheme_mappings = set()\n",
    "\n",
    "# Iterate through the rows\n",
    "for index, row in espada_df.iterrows():\n",
    "    entry = row['Entry']\n",
    "    phoneme_sequence = row['MainBase']\n",
    "    \n",
    "    # Split the phoneme sequence by spaces to get individual phonemes\n",
    "    phonemes = phoneme_sequence.split()\n",
    "    \n",
    "    # Ensure the lengths of the entry and phoneme sequence match for 1-to-1 mapping\n",
    "    if len(entry) == len(phonemes):\n",
    "        for letter, phoneme in zip(entry, phonemes):\n",
    "            # Add the (letter, phoneme) tuple to the set\n",
    "            phoneme_grapheme_mappings.add((letter, phoneme))\n",
    "\n",
    "print(f\"Total unique phoneme-grapheme mappings: {len(phoneme_grapheme_mappings)}\")\n",
    "print(f\"Phoneme-grapheme mappings: {phoneme_grapheme_mappings}\")"
   ]
  },
  {
   "cell_type": "code",
   "execution_count": null,
   "metadata": {},
   "outputs": [],
   "source": []
  }
 ],
 "metadata": {
  "kernelspec": {
   "display_name": "Python 3",
   "language": "python",
   "name": "python3"
  },
  "language_info": {
   "codemirror_mode": {
    "name": "ipython",
    "version": 3
   },
   "file_extension": ".py",
   "mimetype": "text/x-python",
   "name": "python",
   "nbconvert_exporter": "python",
   "pygments_lexer": "ipython3",
   "version": "3.12.6"
  }
 },
 "nbformat": 4,
 "nbformat_minor": 2
}
