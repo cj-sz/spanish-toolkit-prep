{
 "cells": [
  {
   "cell_type": "markdown",
   "metadata": {},
   "source": [
    "# ESPADA Spanish Annotated Dictionary Parser"
   ]
  },
  {
   "cell_type": "code",
   "execution_count": 1,
   "metadata": {},
   "outputs": [],
   "source": [
    "import pandas as pd\n",
    "import os\n",
    "import re"
   ]
  },
  {
   "cell_type": "code",
   "execution_count": 2,
   "metadata": {},
   "outputs": [
    {
     "name": "stdout",
     "output_type": "stream",
     "text": [
      "(628298, 35)\n"
     ]
    }
   ],
   "source": [
    "# Combine the three dataframes back into a single dataframe\n",
    "# NOTE: Two entries from original dictionary manually removed containing unicode characters '\\u200e', '\\xad'\n",
    "# These appeared to be repeats of entries already present.\n",
    "df1_loaded = pd.read_csv('SpanishAnnotatedDictionary_part1.csv')\n",
    "df2_loaded = pd.read_csv('SpanishAnnotatedDictionary_part2.csv')\n",
    "df3_loaded = pd.read_csv('SpanishAnnotatedDictionary_part3.csv')\n",
    "\n",
    "espada_df = pd.concat([df1_loaded, df2_loaded, df3_loaded], ignore_index=True)\n",
    "\n",
    "print(espada_df.shape)"
   ]
  },
  {
   "cell_type": "markdown",
   "metadata": {},
   "source": [
    "Obtain the set of all unique phonemes present in the dictionary. Note that all phonemes are single-lettered for simplicity, and in this dictionary there is a 1-1 correspondence between letters and their phonological counterparts."
   ]
  },
  {
   "cell_type": "code",
   "execution_count": 3,
   "metadata": {},
   "outputs": [
    {
     "name": "stdout",
     "output_type": "stream",
     "text": [
      "Total unique phonemes: 36\n",
      "Unique phonemes: {'T', 'D', 'l', 'f', 'J', 'j', 'm', 'B', 'b', 'W', 'Y', 'p', 'G', 't', 'E', 'O', 'i', 'x', 'A', 'R', 'N', 'u', 'S', 'r', 'n', 'C', 'd', 'w', 'I', 'U', 'o', 's', 'g', 'e', 'k', 'a'}\n"
     ]
    }
   ],
   "source": [
    "unique_phonemes = set()\n",
    "\n",
    "for phoneme_sequence in espada_df['MainBase']:\n",
    "    phonemes = phoneme_sequence.split()\n",
    "    unique_phonemes.update(phonemes)\n",
    "\n",
    "print(f\"Total unique phonemes: {len(unique_phonemes)}\")\n",
    "print(f\"Unique phonemes: {unique_phonemes}\")"
   ]
  },
  {
   "cell_type": "markdown",
   "metadata": {},
   "source": [
    "Obtain a list of words spanning all phonemes."
   ]
  },
  {
   "cell_type": "code",
   "execution_count": 4,
   "metadata": {},
   "outputs": [
    {
     "name": "stdout",
     "output_type": "stream",
     "text": [
      "Number of selected words: 29\n",
      "Selected words: ['a', 'aaron', 'aarón', 'aarónico', 'aaronita', 'ab', 'aba', 'ababilla', 'ababillabais', 'ababillábamos', 'ababillado', 'ababilláis', 'ababillándome', 'ababillaré', 'ababol', 'abacería', 'abacha', 'abadejo', 'abadengo', 'abajeño', 'abakuá', 'abalaustrado', 'abaleadura', 'abapó', 'abarcucé', 'abarraca', 'abarragamiento', 'abifetear', 'accha']\n"
     ]
    }
   ],
   "source": [
    "seen_phonemes = set()\n",
    "selected_words = []\n",
    "\n",
    "for index, row in espada_df.iterrows():\n",
    "    entry = row['Entry']\n",
    "    phoneme_sequence = row['MainBase']\n",
    "    \n",
    "    phonemes = set(phoneme_sequence.split())\n",
    "    \n",
    "    if not phonemes.issubset(seen_phonemes):\n",
    "        selected_words.append(entry)\n",
    "        seen_phonemes.update(phonemes)\n",
    "        \n",
    "        if seen_phonemes == unique_phonemes:\n",
    "            break\n",
    "\n",
    "print(f\"Number of selected words: {len(selected_words)}\")\n",
    "print(f\"Selected words: {selected_words}\")"
   ]
  },
  {
   "cell_type": "markdown",
   "metadata": {},
   "source": [
    "Obtain a set of all 1-1 grapheme-phoneme mappings."
   ]
  },
  {
   "cell_type": "code",
   "execution_count": 5,
   "metadata": {},
   "outputs": [
    {
     "name": "stdout",
     "output_type": "stream",
     "text": [
      "Total unique phoneme-grapheme mappings: 229\n",
      "Phoneme-grapheme mappings: {('b', 'b'), ('á', 'A'), ('u', 'E'), ('q', 'E'), ('ú', 'Y'), ('l', 'u'), ('l', 'A'), ('g', 'N'), ('u', 'U'), ('ú', 'U'), ('r', 'r'), ('e', 'w'), ('q', 'e'), ('u', 'e'), ('l', 'Y'), ('l', 'E'), ('u', 'm'), ('l', 't'), ('l', 'U'), ('i', 's'), ('m', 'u'), ('c', 'C'), ('ç', 's'), ('l', 'e'), ('x', 'x'), ('w', 'w'), ('y', 'j'), ('x', 's'), ('e', 'j'), ('w', 'b'), ('r', 't'), ('i', 'l'), ('a', 'w'), ('h', 'W'), ('p', 'p'), ('r', 'U'), ('s', 's'), ('h', 't'), ('è', 'E'), ('r', 'e'), ('u', 'J'), ('c', 's'), ('h', 'C'), ('j', 'o'), ('i', 'f'), ('m', 'a'), ('m', 'm'), ('s', 'i'), ('z', 's'), ('c', 'I'), ('o', 'k'), ('c', 'l'), ('e', 'k'), ('î', 'J'), ('b', 'B'), ('n', 'a'), ('o', 'E'), ('e', 'E'), ('y', 'Y'), ('w', 's'), ('o', 'W'), ('a', 's'), ('g', 'r'), ('z', 'T'), ('f', 'f'), ('r', 'R'), ('o', 't'), ('u', 'W'), ('ú', 'W'), ('e', 'f'), ('i', 'j'), ('u', 't'), ('r', 'i'), ('é', 'p'), ('e', 'e'), ('a', 'l'), ('h', 'i'), ('p', 'O'), ('o', 'm'), ('y', 'a'), ('e', 'm'), ('ü', 'w'), ('t', 's'), ('p', 'o'), ('i', 'r'), ('c', 'o'), ('u', 'p'), ('t', 'I'), ('h', 'w'), ('r', 'O'), ('u', 'g'), ('d', 'r'), ('i', 'k'), ('h', 'O'), ('á', 'p'), ('ó', 'O'), ('a', 'a'), ('o', 'J'), ('n', 'A'), ('l', 'p'), ('i', 'E'), ('r', 'o'), ('u', 'I'), ('q', 'I'), ('p', 's'), ('ń', 'O'), ('o', 'n'), ('e', 'n'), ('h', 'o'), ('e', 'r'), ('q', 'i'), ('u', 'i'), ('r', 'p'), ('t', 'O'), ('l', 'I'), ('i', 'm'), ('o', 'D'), ('l', 'i'), ('c', 'T'), ('g', 'n'), ('u', 'w'), ('ú', 'w'), ('t', 'o'), ('a', 'r'), ('e', 'W'), ('e', 't'), ('s', 'a'), ('à', 'a'), ('w', 'u'), ('a', 'k'), ('a', 'A'), ('m', 'i'), ('p', 'a'), ('c', 'a'), ('i', 'J'), ('q', 'o'), ('ã', 'a'), ('l', 'O'), ('o', 'p'), ('n', 'n'), ('a', 't'), ('d', 'n'), ('ñ', 'N'), ('o', 's'), ('ö', 'O'), ('h', 'a'), ('q', 's'), ('a', 'm'), ('y', 'J'), ('e', 'I'), ('x', 'k'), ('d', 'D'), ('f', 'i'), ('p', 'r'), ('i', 'W'), ('m', 'o'), ('y', 'i'), ('i', 't'), ('ö', 'o'), ('g', 'g'), ('g', 'x'), ('à', 'A'), ('g', 'G'), ('c', 'k'), ('p', 'u'), ('c', 'A'), ('t', 'a'), ('l', 'l'), ('v', 'b'), ('o', 'w'), ('g', 'l'), ('a', 'n'), ('o', 'O'), ('m', 's'), ('s', 'e'), ('i', 'p'), ('w', 'r'), ('r', 'k'), ('i', 'x'), ('r', 'u'), ('ò', 'o'), ('ó', 'r'), ('u', 'a'), ('q', 'a'), ('p', 'e'), ('r', 'A'), ('h', 'A'), ('h', 'k'), ('h', 'S'), ('o', 'o'), ('ü', 'W'), ('ó', 'k'), ('k', 'k'), ('e', 'o'), ('i', 'I'), ('ü', 'U'), ('h', 'E'), ('i', 'd'), ('n', 'I'), ('w', 'W'), ('i', 'i'), ('a', 'W'), ('d', 'd'), ('y', 'p'), ('n', 'i'), ('s', 'J'), ('h', 'e'), ('í', 'I'), ('r', 'a'), ('t', 'A'), ('e', 's'), ('é', 'E'), ('t', 'E'), ('i', 'w'), ('y', 'I'), ('f', 'l'), ('c', 'n'), ('n', 'w'), ('i', 'O'), ('t', 't'), ('q', 'k'), ('u', 'u'), ('ú', 'u'), ('u', 'k'), ('w', 'g'), ('j', 'x'), ('d', 'O'), ('t', 'e'), ('v', 'B')}\n"
     ]
    }
   ],
   "source": [
    "phoneme_grapheme_mappings = set()\n",
    "\n",
    "# Iterate through the rows\n",
    "for index, row in espada_df.iterrows():\n",
    "    entry = row['Entry']\n",
    "    phoneme_sequence = row['MainBase']\n",
    "    \n",
    "    # Split the phoneme sequence by spaces to get individual phonemes\n",
    "    phonemes = phoneme_sequence.split()\n",
    "    \n",
    "    # Ensure the lengths of the entry and phoneme sequence match for 1-to-1 mapping\n",
    "    if len(entry) == len(phonemes):\n",
    "        for letter, phoneme in zip(entry, phonemes):\n",
    "            # Add the (letter, phoneme) tuple to the set\n",
    "            phoneme_grapheme_mappings.add((letter, phoneme))\n",
    "\n",
    "print(f\"Total unique phoneme-grapheme mappings: {len(phoneme_grapheme_mappings)}\")\n",
    "print(f\"Phoneme-grapheme mappings: {phoneme_grapheme_mappings}\")"
   ]
  },
  {
   "cell_type": "markdown",
   "metadata": {},
   "source": [
    "Output a dataframe of words, their phonemes, and the contained mappings spanning all of the mappings found in the previous step."
   ]
  },
  {
   "cell_type": "code",
   "execution_count": 6,
   "metadata": {},
   "outputs": [
    {
     "name": "stdout",
     "output_type": "stream",
     "text": [
      "Total spanning words: 144\n",
      "Spanning words saved to 'spanning_words.csv'\n"
     ]
    }
   ],
   "source": [
    "# Set to track unique phoneme-grapheme mappings\n",
    "seen_mappings = set()\n",
    "\n",
    "# List to store the results\n",
    "spanning_words = []\n",
    "\n",
    "# Iterate through the rows\n",
    "for index, row in espada_df.iterrows():\n",
    "    entry = row['Entry']\n",
    "    phoneme_sequence = row['MainBase']\n",
    "    \n",
    "    # Split the phoneme sequence by spaces to get individual phonemes\n",
    "    phonemes = phoneme_sequence.split()\n",
    "    \n",
    "    # Ensure the lengths of the entry and phoneme sequence match for 1-to-1 mapping\n",
    "    if len(entry) == len(phonemes):\n",
    "        word_mappings = [(letter, phoneme) for letter, phoneme in zip(entry, phonemes)]\n",
    "        # Check if any new phoneme-grapheme mappings are introduced\n",
    "        new_mappings = [(letter, phoneme) for letter, phoneme in word_mappings if (letter, phoneme) not in seen_mappings]\n",
    "        \n",
    "        if new_mappings:\n",
    "            # Add the word to the spanning words list\n",
    "            spanning_words.append({\n",
    "                'entry': entry,\n",
    "                'phonemes': phonemes,\n",
    "                'mappings': word_mappings\n",
    "            })\n",
    "            \n",
    "            # Update the set of seen mappings\n",
    "            seen_mappings.update(new_mappings)\n",
    "            \n",
    "            # If all phoneme-grapheme mappings are found, we can exit early\n",
    "            if len(seen_mappings) == len(phoneme_grapheme_mappings):\n",
    "                break\n",
    "\n",
    "# Create a DataFrame from the list of spanning words\n",
    "df_spanning = pd.DataFrame(spanning_words)\n",
    "\n",
    "# Output the DataFrame to a CSV file\n",
    "df_spanning.to_csv('spanning_words.csv', index=False)\n",
    "\n",
    "print(f\"Total spanning words: {len(spanning_words)}\")\n",
    "print(f\"Spanning words saved to 'spanning_words.csv'\")"
   ]
  },
  {
   "cell_type": "code",
   "execution_count": null,
   "metadata": {},
   "outputs": [],
   "source": []
  }
 ],
 "metadata": {
  "kernelspec": {
   "display_name": "Python 3",
   "language": "python",
   "name": "python3"
  },
  "language_info": {
   "codemirror_mode": {
    "name": "ipython",
    "version": 3
   },
   "file_extension": ".py",
   "mimetype": "text/x-python",
   "name": "python",
   "nbconvert_exporter": "python",
   "pygments_lexer": "ipython3",
   "version": "3.12.6"
  }
 },
 "nbformat": 4,
 "nbformat_minor": 2
}
